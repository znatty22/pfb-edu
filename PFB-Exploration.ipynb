{
 "cells": [
  {
   "cell_type": "markdown",
   "metadata": {},
   "source": [
    "# Demonstration"
   ]
  },
  {
   "cell_type": "code",
   "execution_count": 9,
   "metadata": {},
   "outputs": [],
   "source": [
    "# Helper functions\n",
    "\n",
    "import json\n",
    "import os\n",
    "\n",
    "from click.testing import CliRunner\n",
    "import yaml\n",
    "from fastavro import writer, reader, parse_schema\n",
    "from pprint import pprint\n",
    "\n",
    "from pfb import cli\n",
    "from pfb.cli import main as pfb\n",
    "\n",
    "def read_yaml(filepath):\n",
    "    with open(filepath, \"r\") as yaml_file:\n",
    "        return yaml.load(yaml_file, Loader=yaml.FullLoader)\n",
    "\n",
    "def read_json(filepath, default=None):\n",
    "    if (default is not None) and (not os.path.isfile(filepath)):\n",
    "        return default\n",
    "\n",
    "    with open(filepath, 'r') as data_file:\n",
    "        return json.load(data_file)\n",
    "\n",
    "def write_json(data, filepath, **kwargs):\n",
    "    with open(filepath, 'w') as json_file:\n",
    "        kwargs = {\n",
    "            'indent': 4,\n",
    "            'sort_keys': True\n",
    "        }\n",
    "        json.dump(data, json_file, **kwargs)\n",
    "\n",
    "def minify(input_json_file, output_file):\n",
    "    data = read_json(input_json_file)\n",
    "    with open(output_file, 'w') as minified_file:\n",
    "        s = json.dumps(data, separators=(',', ':'))\n",
    "        minified_file.write(s)\n",
    "        \n",
    "def pfb_invoke(*args, **kwargs):\n",
    "    # Use CliRunner to call Click cli from python\n",
    "    runner = CliRunner()\n",
    "    result = runner.invoke(main, args, **kwargs)\n",
    "    try:\n",
    "        assert result.exit_code == 0, result.output\n",
    "    except AssertionError:\n",
    "        print(str(result.exc_info))\n",
    "\n",
    "    return result"
   ]
  },
  {
   "cell_type": "markdown",
   "metadata": {},
   "source": [
    "## Vanilla Avro"
   ]
  },
  {
   "cell_type": "code",
   "execution_count": 47,
   "metadata": {},
   "outputs": [
    {
     "name": "stdout",
     "output_type": "stream",
     "text": [
      "Avro file data/kf-vanilla.avro schema:\n",
      "{'avro.codec': 'null',\n",
      " 'avro.schema': '{\"type\": \"record\", \"name\": \"kf-vanilla.avro.Participant\", '\n",
      "                '\"fields\": [{\"name\": \"external_id\", \"type\": \"string\"}, '\n",
      "                '{\"name\": \"gender\", \"type\": [\"null\", \"string\"]}]}'}\n",
      "\n",
      "Avro file data/kf-vanilla.avro data:\n",
      "{'external_id': 'P1', 'gender': 'female'}\n",
      "{'external_id': 'P2', 'gender': 'male'}\n"
     ]
    }
   ],
   "source": [
    "# Output avro filepath\n",
    "data_file = 'data/kf-vanilla.avro'\n",
    "\n",
    "# Avro schema describing data that will go into avro file\n",
    "schema = {\n",
    "    \"namespace\": \"kf-vanilla.avro\",\n",
    "     \"type\": \"record\",\n",
    "     \"name\": \"Participant\",\n",
    "     \"fields\": [\n",
    "         {\"name\": \"external_id\", \"type\": \"string\"},\n",
    "         {\"name\": \"gender\",  \"type\": [\"null\", \"string\"]}\n",
    "     ]\n",
    "}\n",
    "write_json(schema, 'data/kf-vanilla-avro-schema.json')\n",
    "\n",
    "# Parse the schema into memory so that subsequent ops are faster\n",
    "parsed_schema = parse_schema(schema)\n",
    "\n",
    "# Create some data that conforms to the schema\n",
    "records = [\n",
    "    {\"external_id\": \"P1\", \"gender\": \"female\"},\n",
    "    {\"external_id\": \"P2\", \"gender\": \"male\"}\n",
    "]\n",
    "\n",
    "# Write the schema and data into the avro file\n",
    "with open(data_file, 'wb') as out:\n",
    "    writer(out, parsed_schema, records)\n",
    "\n",
    "# Read the binary compressed avro data back into JSON\n",
    "with open(data_file, 'rb') as fo:\n",
    "    print(f'Avro file {data_file} schema:')\n",
    "    pprint(reader(fo).metadata)\n",
    "    fo.seek(0)\n",
    "    print(f'\\nAvro file {data_file} data:')\n",
    "    for record in reader(fo):\n",
    "        pprint(record)\n",
    "    "
   ]
  },
  {
   "cell_type": "markdown",
   "metadata": {},
   "source": [
    "## PFB Avro - Suitable for relational data"
   ]
  },
  {
   "cell_type": "code",
   "execution_count": 2,
   "metadata": {},
   "outputs": [],
   "source": [
    "# Create test data using gen3 data simulator\n",
    "# Requires the gen3 data dictionary to be stored on s3\n",
    "data_dir = 'data/simulated/'\n",
    "gen3_dd = 'data/kf-gen3-datadict.json'\n",
    "schema_avro = 'data/kf-pfb-schema.avro'\n",
    "output_avro = 'data/kf-pfb.avro'\n",
    "program = 'kidsfirst'\n",
    "project = 'drc'\n",
    "\n",
    "# Execute if you don't have any test data yet\n",
    "# !data-simulator simulate --url https://s3.amazonaws.com/singhn4-data-dict-bucket/kf-gen3-datadict.json --path data/simulated --program kidsfirst --project drc\n",
    "# !ls -l data/simulated   "
   ]
  },
  {
   "cell_type": "code",
   "execution_count": 16,
   "metadata": {},
   "outputs": [
    {
     "name": "stdout",
     "output_type": "stream",
     "text": [
      "******************* Writing PFB Schema *******************\n",
      "Loading dictionary: data/kf-gen3-datadict.json\n",
      "Parsing dictionary...\n",
      "Writing PFB...\n",
      "Done, created PFB file at: data/kf-pfb-schema.avro\n",
      "\n",
      "******************* Writing data to PFB file *******************\n",
      "Loading schema...\n",
      "1/3: family\n",
      "2/3: participant\n",
      "3/3: project\n",
      "Done!\n",
      "\n"
     ]
    }
   ],
   "source": [
    "# Create schema avro file from gen3 data dict\n",
    "kf_gen3_dd = read_yaml(gen3_dd)\n",
    "\n",
    "print('******************* Writing PFB Schema *******************')\n",
    "result = pfb_invoke('from', '-o', schema_avro, 'dict', gen3_dd)\n",
    "print(result.output)\n",
    "# # Show the avro schema in pfb file\n",
    "# print('******************* PFB Schema *******************')\n",
    "# result = pfb_invoke('show', '-i', schema_avro, 'schema')\n",
    "# pprint(json.loads(result.output))\n",
    "\n",
    "# Write the test data to the output avro file\n",
    "print('******************* Writing data to PFB file *******************')\n",
    "result = pfb_invoke('from', '-o', output_avro, 'json',\n",
    "           '-s', schema_avro, \n",
    "           '--program', program,\n",
    "          '--project', project,\n",
    "          data_dir)\n",
    "print(result.output)\n",
    "# # Read the data back out from the pfb file\n",
    "# print('******************* PFB Data *******************')\n",
    "# print('PFB nodes')\n",
    "# result = pfb_invoke('show', '-i', output_avro, 'nodes')\n",
    "# print(result.output)\n",
    "\n",
    "# # Read the binary compressed avro data back into JSON\n",
    "# print('Avro data records')\n",
    "# with open(output_avro, 'rb') as fo:\n",
    "#     for record in reader(fo):\n",
    "#         pprint(record)"
   ]
  },
  {
   "cell_type": "code",
   "execution_count": null,
   "metadata": {},
   "outputs": [],
   "source": []
  }
 ],
 "metadata": {
  "kernelspec": {
   "display_name": "Python 3",
   "language": "python",
   "name": "python3"
  },
  "language_info": {
   "codemirror_mode": {
    "name": "ipython",
    "version": 3
   },
   "file_extension": ".py",
   "mimetype": "text/x-python",
   "name": "python",
   "nbconvert_exporter": "python",
   "pygments_lexer": "ipython3",
   "version": "3.7.5"
  },
  "toc": {
   "base_numbering": 1,
   "nav_menu": {},
   "number_sections": true,
   "sideBar": true,
   "skip_h1_title": false,
   "title_cell": "Table of Contents",
   "title_sidebar": "Contents",
   "toc_cell": false,
   "toc_position": {
    "height": "calc(100% - 180px)",
    "left": "10px",
    "top": "150px",
    "width": "193px"
   },
   "toc_section_display": true,
   "toc_window_display": true
  }
 },
 "nbformat": 4,
 "nbformat_minor": 4
}
